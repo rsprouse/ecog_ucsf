{
 "cells": [
  {
   "cell_type": "markdown",
   "metadata": {},
   "source": [
    "# read_block()\n",
    "\n",
    "The `read_block()` function is the basic interface for reading block-level ECOG data from the UCSF Chang lab. It has one required parameter that defines the base data directory `basedir`. By default `read_block()` will read data from the 'ecogDS' subdirectory of `basedir`."
   ]
  },
  {
   "cell_type": "code",
   "execution_count": 1,
   "metadata": {},
   "outputs": [
    {
     "data": {
      "text/plain": [
       "ECBlock(basedir='../../ecog/datasets/GP31_B40', subdir='ecogDS', data=[[ 130.33782959  247.03282166  217.74197388 ...,  227.62039185\n",
       "   253.04103088  129.75482178]\n",
       " [ 110.74650574  211.14225769  192.89465332 ...,  175.30302429\n",
       "   186.76789856   94.83296204]\n",
       " [  99.78131866  188.86553955  169.49157715 ...,  184.86541748\n",
       "   199.61947632  101.62522888]\n",
       " ..., \n",
       " [ 155.18597412  291.36831665  249.77731323 ...,  325.25637817\n",
       "   361.01947021  180.72859192]\n",
       " [-259.61843872 -491.78964233 -423.64752197 ..., -323.57369995\n",
       "  -382.38088989 -196.47114563]\n",
       " [          nan           nan           nan ...,           nan\n",
       "            nan           nan]], htkrate=400.0, badchan=[255, 112, 113, 114, 115, 123, 127])"
      ]
     },
     "execution_count": 1,
     "metadata": {},
     "output_type": "execute_result"
    }
   ],
   "source": [
    "from ecog_ucsf.block import read_block\n",
    "import numpy as np\n",
    "\n",
    "basedir = '../../ecog/datasets/GP31_B40'\n",
    "ds = read_block(basedir)\n",
    "ds"
   ]
  },
  {
   "cell_type": "markdown",
   "metadata": {},
   "source": [
    "`read_block()` returns an ECBlock object, which contains the block data as a numpy ndarray and associated metadata. The `data` attribute holds the ndarray. The first axis of this array is the electrode channels, and the second axis is sample times in the form of an integer index."
   ]
  },
  {
   "cell_type": "code",
   "execution_count": 2,
   "metadata": {},
   "outputs": [
    {
     "data": {
      "text/plain": [
       "(256, 288801)"
      ]
     },
     "execution_count": 2,
     "metadata": {},
     "output_type": "execute_result"
    }
   ],
   "source": [
    "ds.data.shape"
   ]
  },
  {
   "cell_type": "markdown",
   "metadata": {},
   "source": [
    "Other attributes you can read include the sample rate (converted to Hz) as reported by the `.htk` files, the the list of bad channels and bad time segments in the block, and the block's data directory and subdirectory."
   ]
  },
  {
   "cell_type": "code",
   "execution_count": 3,
   "metadata": {},
   "outputs": [
    {
     "name": "stdout",
     "output_type": "stream",
     "text": [
      "400.0\n",
      "[255, 112, 113, 114, 115, 123, 127]\n",
      "           t1          t2\n",
      "0    3.900000    4.400000\n",
      "1  686.206406  686.699058\n",
      "2  688.861252  690.736066\n",
      "3  697.605822  698.002681\n",
      "../../ecog/datasets/GP31_B40\n",
      "ecogDS\n"
     ]
    }
   ],
   "source": [
    "print(ds.htkrate)\n",
    "print(ds.badchan)\n",
    "print(ds.badsegs)\n",
    "print(ds.basedir)\n",
    "print(ds.subdir)"
   ]
  },
  {
   "cell_type": "markdown",
   "metadata": {},
   "source": [
    "Finally, the `ts` attribute contains the sample times of the data. "
   ]
  },
  {
   "cell_type": "code",
   "execution_count": 4,
   "metadata": {},
   "outputs": [
    {
     "name": "stdout",
     "output_type": "stream",
     "text": [
      "[  0.00000000e+00   2.50000000e-03   5.00000000e-03 ...,   7.21995000e+02\n",
      "   7.21997500e+02   7.22000000e+02]\n"
     ]
    }
   ],
   "source": [
    "print(ds.ts)"
   ]
  },
  {
   "cell_type": "markdown",
   "metadata": {},
   "source": [
    "`ts` can be used to plot channel data with a proper time axis."
   ]
  },
  {
   "cell_type": "code",
   "execution_count": 5,
   "metadata": {},
   "outputs": [],
   "source": [
    "import matplotlib.pyplot as plt\n",
    "%matplotlib inline"
   ]
  },
  {
   "cell_type": "code",
   "execution_count": 6,
   "metadata": {},
   "outputs": [
    {
     "data": {
      "text/plain": [
       "[<matplotlib.lines.Line2D at 0x12fd5f198>]"
      ]
     },
     "execution_count": 6,
     "metadata": {},
     "output_type": "execute_result"
    },
    {
     "data": {
      "image/png": "[encoded data removed]",
      "text/plain": [
       "<matplotlib.figure.Figure at 0x12c7bfe48>"
      ]
     },
     "metadata": {},
     "output_type": "display_data"
    }
   ],
   "source": [
    "plt.plot(ds.ts, ds.data[0,:])"
   ]
  },
  {
   "cell_type": "markdown",
   "metadata": {},
   "source": [
    "## The `subdir` parameter\n",
    "\n",
    "Use the `subdir` parameter to read from a non-default subdirectory of `basedir`. The `.htk` files in `subdir` may contain data that is a different shape than is found in the default 'ecogDS' subdirectory."
   ]
  },
  {
   "cell_type": "code",
   "execution_count": 7,
   "metadata": {},
   "outputs": [
    {
     "data": {
      "text/plain": [
       "ECBlock(basedir='../../ecog/datasets/GP31_B40', subdir='ecogDS', data=[[[  4.22455025   5.36758852   5.80154228 ...,   4.39262581   5.51103258\n",
       "     4.25414467]\n",
       "  [  4.2146287    5.24366951   5.78416252 ...,   4.44086552   5.42778873\n",
       "     4.1641655 ]\n",
       "  [  4.18704987   5.09346533   5.7275176  ...,   4.4530158    5.30415964\n",
       "     4.02637386]\n",
       "  ..., \n",
       "  [  4.15087366   5.57430077   5.61382198 ...,   4.02628422   5.50698853\n",
       "     4.20953608]\n",
       "  [  4.1921711    5.53314447   5.71599436 ...,   4.18471861   5.55061865\n",
       "     4.27777195]\n",
       "  [  4.21693707   5.46424341   5.77882814 ...,   4.30722809   5.55216503\n",
       "     4.29264069]]\n",
       "\n",
       " [[  3.09665585   3.61621547   3.19286013 ...,   2.23635387   2.08436179\n",
       "     3.25961304]\n",
       "  [  3.07151604   3.57516837   3.20979118 ...,   2.28917551   2.01924372\n",
       "     3.29403639]\n",
       "  [  3.02797365   3.51849747   3.20194244 ...,   2.31910515   1.93104589\n",
       "     3.30092835]\n",
       "  ..., \n",
       "  [  3.05056548   3.64777827   2.98912096 ...,   1.94276071   2.13781428\n",
       "     3.0026288 ]\n",
       "  [  3.0869174    3.65196466   3.08239245 ...,   2.06225991   2.1431787\n",
       "     3.11186123]\n",
       "  [  3.1020999    3.64168406   3.15044475 ...,   2.16053176   2.12564969\n",
       "     3.19835091]]\n",
       "\n",
       " [[  1.97065091   3.16799331   2.21560264 ...,   2.69200611   2.26471758\n",
       "     2.82408357]\n",
       "  [  1.979756     3.15965343   2.23982406 ...,   2.67853093   2.26597381\n",
       "     2.75769901]\n",
       "  [  1.97130656   3.14144754   2.24807835 ...,   2.64449716   2.24333549\n",
       "     2.66521859]\n",
       "  ..., \n",
       "  [  1.83796203   3.13401794   2.05213141 ...,   2.6082437    2.11423564\n",
       "     2.85981464]\n",
       "  [  1.89945376   3.1549778    2.12090015 ...,   2.65635014   2.18834424\n",
       "     2.87494993]\n",
       "  [  1.94383502   3.16639733   2.17573476 ...,   2.68453956   2.23881364\n",
       "     2.86324906]]\n",
       "\n",
       " ..., \n",
       " [[  9.2451086   10.74602604  11.95071316 ...,  10.14650345  10.63798141\n",
       "    11.01902485]\n",
       "  [  9.1400423   10.70067787  11.85345078 ...,   9.97770786  10.52651978\n",
       "    10.96622658]\n",
       "  [  8.99830818  10.58992672  11.68687725 ...,   9.7132864   10.31949043\n",
       "    10.79565239]\n",
       "  ..., \n",
       "  [  9.33464432  10.48405361  11.81325436 ...,  10.0568552   10.37839222\n",
       "    10.45945072]\n",
       "  [  9.34235477  10.63720608  11.93048286 ...,  10.1855402   10.5630188\n",
       "    10.76289272]\n",
       "  [  9.31263065  10.72487831  11.97659302 ...,  10.21606445  10.65034389\n",
       "    10.95097542]]\n",
       "\n",
       " [[ 16.97855568  19.1931572   22.48959732 ...,  19.91634941  19.92117119\n",
       "    21.89165115]\n",
       "  [ 16.98152351  19.10669899  22.42414665 ...,  19.78046036  19.68880463\n",
       "    21.58451271]\n",
       "  [ 16.89219856  18.9073658   22.21921539 ...,  19.46874046  19.26470375\n",
       "    21.0526371 ]\n",
       "  ..., \n",
       "  [ 16.42514038  18.76938248  21.8453331  ...,  19.25330353  19.44120789\n",
       "    21.4165554 ]\n",
       "  [ 16.69798851  19.02296257  22.1979351  ...,  19.64940071  19.79405975\n",
       "    21.80508804]\n",
       "  [ 16.88349152  19.16508484  22.41387749 ...,  19.87236214  19.95615005\n",
       "    21.96555138]]\n",
       "\n",
       " [[         nan          nan          nan ...,          nan          nan\n",
       "            nan]\n",
       "  [         nan          nan          nan ...,          nan          nan\n",
       "            nan]\n",
       "  [         nan          nan          nan ...,          nan          nan\n",
       "            nan]\n",
       "  ..., \n",
       "  [         nan          nan          nan ...,          nan          nan\n",
       "            nan]\n",
       "  [         nan          nan          nan ...,          nan          nan\n",
       "            nan]\n",
       "  [         nan          nan          nan ...,          nan          nan\n",
       "            nan]]], htkrate=400.0, badchan=[255, 112, 113, 114, 115, 123, 127])"
      ]
     },
     "execution_count": 7,
     "metadata": {},
     "output_type": "execute_result"
    }
   ],
   "source": [
    "subdir = 'HilbAA_70to150_8band'\n",
    "bands = read_block(basedir, subdir)\n",
    "bands"
   ]
  },
  {
   "cell_type": "markdown",
   "metadata": {},
   "source": [
    "The `.htk` files in 'HilbAA_70to150_8band' contain 2D data, with sample values in 8 frequency bands. The axes of the output ndarray data are now (channels, sample_times, bands)."
   ]
  },
  {
   "cell_type": "code",
   "execution_count": 8,
   "metadata": {},
   "outputs": [
    {
     "data": {
      "text/plain": [
       "(256, 288801, 8)"
      ]
     },
     "execution_count": 8,
     "metadata": {},
     "output_type": "execute_result"
    }
   ],
   "source": [
    "bands.data.shape"
   ]
  },
  {
   "cell_type": "markdown",
   "metadata": {},
   "source": [
    "## The `converter` parameter.\n",
    "\n",
    "The `converter` parameter may be used to apply a function to the data read from the `.htk` files on a per-channel basis. This function may change the shape of the input data, as long as the output shapes of all the channels are compatible with each other and can be compiled into a single output ndarray.\n",
    "\n",
    "As an example, we'll use `decimate()` to downsample the signals from the `ecogDS` subdirectory. `read_block()` provides the channel data (a numpy ndarray) as the input to the converter function. In the example a lambda function calls `decimate()` on this ndarray and supplies additional parameters `q`, `axis`, and `zero_phase`."
   ]
  },
  {
   "cell_type": "code",
   "execution_count": 9,
   "metadata": {},
   "outputs": [],
   "source": [
    "from scipy.signal import decimate"
   ]
  },
  {
   "cell_type": "code",
   "execution_count": 10,
   "metadata": {},
   "outputs": [
    {
     "data": {
      "text/plain": [
       "(256, 28881)"
      ]
     },
     "execution_count": 10,
     "metadata": {},
     "output_type": "execute_result"
    }
   ],
   "source": [
    "dec = read_block(\n",
    "    basedir,\n",
    "    converter=lambda chan: decimate(chan, q=10, axis=0, zero_phase=True)\n",
    ")\n",
    "dec.data.shape"
   ]
  },
  {
   "cell_type": "markdown",
   "metadata": {},
   "source": [
    "The result is the same as the `ds` output from before, except the length of the second axis has been reduced by a factor of 10, as seen by inspecting the data shape.\n",
    "\n",
    "`read_block()` also automatically detects when a `converter` function changes the number of samples and sets the `datarate` attribute accordingly."
   ]
  },
  {
   "cell_type": "code",
   "execution_count": 11,
   "metadata": {},
   "outputs": [
    {
     "name": "stdout",
     "output_type": "stream",
     "text": [
      "False\n",
      "400.0\n",
      "40.00124653307987\n"
     ]
    }
   ],
   "source": [
    "print(dec.datarate == dec.htkrate)\n",
    "print(dec.htkrate)\n",
    "print(dec.datarate)"
   ]
  },
  {
   "cell_type": "markdown",
   "metadata": {},
   "source": [
    "### Notes about `converter`\n",
    "\n",
    "There are several important points to observe if you apply a `converter` function:\n",
    "\n",
    "1. The converter function applies separately to each channel as the corresponding `.htk` file is read. It is not applied to the entire output ndarray that contains all of the channels after it has been assembled.\n",
    "1. The axis index used in the converter function refers to the axis location in the *input* ndarray of a single channel, not the location in the *output* ndarray of all channels. The `axis` parameter in the preceding example illustrates this point. The input ndarrays for each channel are 1D and therefore `decimate()` must operate on axis 0. But in the output array, axis 1 is the axis that shows the effect of downsampling.\n",
    "1. The `datarate` attribute is calculated by scaling `htkrate` by the ratio of output samples to input samples. As a result you should expect slightly different `datarate` values on a block-to-block basis for a given decimation factor. This is because downsampling is a many-to-one mapping, meaning that there is more than one input signal duration that maps to a downsampled signal of length N. For example, we should expect 10 different input signal lengths to map to a length N signal when we call `decimate()` with a factor of 10. All channels in a single block have the same `datarate`.\n"
   ]
  },
  {
   "cell_type": "markdown",
   "metadata": {},
   "source": [
    "### Reducing dimensionality\n",
    "\n",
    "The `converter` function can also reduce the dimensionality of the input arrays. For example, numpy's `mean()` method can reduce the 2D data found in the 'HilbAA_70to150_8band' subdirectory by producing an average of all the frequency bands. As we saw earlier in `bands`, the first axis of each channel corresponds to sample times and the second corresponds to frequency bands (these correspond to axis 1 and axis 2 of `bands.data`, respectively; axis 0 of `bands.data` corresponds to channels).\n",
    "\n",
    "For each *input* channel the sample times are contained in axis 0 and the frequency bands are in axis 1. If we take the mean along axis 1, then the result is an output ndarray with axes (channels, sample_times) where the values are the mean value of the 8 frequency bands per-channel and per-sample_time."
   ]
  },
  {
   "cell_type": "code",
   "execution_count": 12,
   "metadata": {},
   "outputs": [
    {
     "data": {
      "text/plain": [
       "(256, 288801)"
      ]
     },
     "execution_count": 12,
     "metadata": {},
     "output_type": "execute_result"
    }
   ],
   "source": [
    "mn = read_block(\n",
    "    basedir,\n",
    "    subdir,\n",
    "    converter=lambda chan: chan.mean(axis=1)\n",
    ")\n",
    "mn.data.shape"
   ]
  },
  {
   "cell_type": "markdown",
   "metadata": {},
   "source": [
    "It's also possible to reduce the dimensionality of a dataset and reduce the length of a dimension in a single converter function. Here the dimensionality is reduced by `mean()` and the length of one axis by `decimate()`."
   ]
  },
  {
   "cell_type": "code",
   "execution_count": 13,
   "metadata": {},
   "outputs": [
    {
     "data": {
      "text/plain": [
       "(256, 28881)"
      ]
     },
     "execution_count": 13,
     "metadata": {},
     "output_type": "execute_result"
    }
   ],
   "source": [
    "r2 = read_block(\n",
    "    basedir,\n",
    "    subdir,\n",
    "    converter=\n",
    "        lambda chan: decimate(\n",
    "            chan.mean(axis=1), q=10, axis=0, zero_phase=True\n",
    "        )\n",
    ")\n",
    "r2.data.shape"
   ]
  },
  {
   "cell_type": "markdown",
   "metadata": {},
   "source": [
    "Additional calculations on the channel data can also be done. The final example calculates per-channel zscores of the downsampled mean data."
   ]
  },
  {
   "cell_type": "code",
   "execution_count": 14,
   "metadata": {},
   "outputs": [
    {
     "data": {
      "text/plain": [
       "(256, 28881)"
      ]
     },
     "execution_count": 14,
     "metadata": {},
     "output_type": "execute_result"
    }
   ],
   "source": [
    "from scipy.stats import zscore\n",
    "z = read_block(\n",
    "    basedir,\n",
    "    subdir,\n",
    "    converter=\n",
    "        # mean of bands -> downsample -> compute zscores\n",
    "        lambda chan: zscore(\n",
    "            decimate(\n",
    "                chan.mean(axis=1), q=10, axis=0, zero_phase=True\n",
    "            )\n",
    "        )\n",
    ")\n",
    "z.data.shape"
   ]
  },
  {
   "cell_type": "markdown",
   "metadata": {},
   "source": [
    "### Using a named function as the `converter`\n",
    "\n",
    "The preceding examples illustrate anonymous converter functions. For more complicated calculations you may wish to define a named function, including a docstring."
   ]
  },
  {
   "cell_type": "code",
   "execution_count": 15,
   "metadata": {},
   "outputs": [],
   "source": [
    "def zscore_bands(data, datarate, trange, decimate_q=None):\n",
    "    '''Calculate zscores for 8-channel frequency band data, using the values\n",
    "in trange as the reference for calculating mean and standard deviation.\n",
    "Also reduce dimensionality of channel data by taking mean of frequency bands.\n",
    "Optionally downsample with decimate().\n",
    "\n",
    "Parameters\n",
    "----------\n",
    "data : 2D ndarray\n",
    "    8-band channel data to be zscored. The time axis must be axis 0, and the\n",
    "    frequency bands are axis 1.\n",
    "\n",
    "datarate : numeric\n",
    "    The sample rate of data.\n",
    "\n",
    "trange : list-like, two elements\n",
    "    The start and end times to be used for indexing into data to calculate\n",
    "    the reference mean and standard deviation for calculating zscores.\n",
    "    \n",
    "decimate_q : None (default) or int\n",
    "    If int, the value to pass to `decimate()` as the `q` parameter for\n",
    "    downsampling data. If None, do not downsample data.\n",
    "\n",
    "Returns\n",
    "-------\n",
    "zscored_data : 1D ndarray\n",
    "    A copy of the input data, reduced to 1D and zscored.\n",
    "'''\n",
    "    data = data.mean(axis=1)\n",
    "    if decimate_q is not None:\n",
    "        data = decimate(data, q=decimate_q, axis=0, zero_phase=True)\n",
    "    tidx = np.around(np.array(trange) * datarate).astype(np.int)\n",
    "    ref = data[np.arange(*tidx)]\n",
    "    return (data - ref.mean()) / ref.std()"
   ]
  },
  {
   "cell_type": "markdown",
   "metadata": {},
   "source": [
    "After the function is defined, use it in the `converter` parameter, and provide the additional parameters required by `zscore_bands`."
   ]
  },
  {
   "cell_type": "code",
   "execution_count": 16,
   "metadata": {},
   "outputs": [
    {
     "data": {
      "text/plain": [
       "(256, 28881)"
      ]
     },
     "execution_count": 16,
     "metadata": {},
     "output_type": "execute_result"
    }
   ],
   "source": [
    "rate = 400.0\n",
    "trange = [3.3, 3.8]\n",
    "zref = read_block(\n",
    "    basedir,\n",
    "    subdir,\n",
    "    converter=lambda chan: zscore_bands(\n",
    "        chan, datarate=rate, trange=trange, decimate_q=10\n",
    "    )\n",
    ")\n",
    "zref.data.shape"
   ]
  },
  {
   "cell_type": "markdown",
   "metadata": {},
   "source": [
    "There is a bit of a chicken-or-the-egg problem here--you need to be aware of the sample rate of the `.htk` files before you invoke `read_block()`, and you also need to know the start and end times of `trange`. One way to get this information is to call `read_block()` without a converter function to get the ECBlock object it returns. You can inspect it to determine the sample rate in the `.htk` files, and you can look at the raw data it contains to select `trange`."
   ]
  },
  {
   "cell_type": "markdown",
   "metadata": {},
   "source": [
    "An alternative approach to calculating the zscores is to find the time period in the channel with the least activity and use that as the reference for calculating zscores. The time window is defined in number of samples, after downsampling."
   ]
  },
  {
   "cell_type": "code",
   "execution_count": 17,
   "metadata": {},
   "outputs": [],
   "source": [
    "def zscore_bands_auto(data, winsize, decimate_q=None):\n",
    "    '''Calculate zscores for 8-channel frequency band data, by automatically\n",
    "finding the time window with minimal electrode activity to use as the reference\n",
    "for calculating mean and standard deviation. Also reduce dimensionality of channel\n",
    "data by taking mean of frequency bands. Optionally downsample with decimate().\n",
    "\n",
    "Parameters\n",
    "----------\n",
    "data : 2D ndarray\n",
    "    8-band channel data to be zscored. The time axis must be axis 0, and the\n",
    "    frequency bands are axis 1.\n",
    "\n",
    "winsize : int\n",
    "    The number of data samples (after downsampling) in the reference window. \n",
    "    \n",
    "decimate_q : None (default) or int\n",
    "    If int, the value to pass to `decimate()` as the `q` parameter for\n",
    "    downsampling data. If None, do not downsample data.\n",
    "\n",
    "Returns\n",
    "-------\n",
    "zscored_data : 1D ndarray\n",
    "    A copy of the input data, reduced to 1D and zscored.\n",
    "'''\n",
    "    data = np.nanmean(data, axis=1)\n",
    "    if decimate_q is not None:\n",
    "        data = decimate(data, q=decimate_q, axis=0, zero_phase=True)\n",
    "    # Activity is calculated by summing a rolling window of sample variances.\n",
    "    # The window with the smallest sum shows the least activity.\n",
    "    activity = np.convolve(\n",
    "        np.nanvar(data, axis=0),\n",
    "        np.ones(winsize),\n",
    "        'valid'\n",
    "    )\n",
    "    minidx = activity.argmin()\n",
    "    ref = data[np.arange(minidx, minidx + winsize)]\n",
    "    return (data - np.nanmean(ref)) / np.nanstd(ref)"
   ]
  },
  {
   "cell_type": "code",
   "execution_count": 18,
   "metadata": {},
   "outputs": [
    {
     "data": {
      "text/plain": [
       "(256, 28881)"
      ]
     },
     "execution_count": 18,
     "metadata": {},
     "output_type": "execute_result"
    }
   ],
   "source": [
    "zaref = read_block(\n",
    "    basedir,\n",
    "    subdir,\n",
    "    converter=lambda chan: zscore_bands_auto(\n",
    "        chan, winsize=10, decimate_q=10\n",
    "    )\n",
    ")\n",
    "zaref.data.shape"
   ]
  },
  {
   "cell_type": "code",
   "execution_count": 19,
   "metadata": {},
   "outputs": [
    {
     "data": {
      "text/plain": [
       "[<matplotlib.lines.Line2D at 0x1c2543da0>]"
      ]
     },
     "execution_count": 19,
     "metadata": {},
     "output_type": "execute_result"
    },
    {
     "data": {
      "image/png": "[encoded data removed]",
      "text/plain": [
       "<matplotlib.figure.Figure at 0x1c0621c18>"
      ]
     },
     "metadata": {},
     "output_type": "display_data"
    }
   ],
   "source": [
    "plt.plot(zaref.data[0,:])"
   ]
  },
  {
   "cell_type": "markdown",
   "metadata": {},
   "source": [
    "## The `dtype` parameter\n",
    "\n",
    "By default `read_block()` returns 32-bit float data. Use the `dtype` parameter to select a different type. For example, use np.float16 to reduce memory usage (and numerical precision)."
   ]
  },
  {
   "cell_type": "code",
   "execution_count": 20,
   "metadata": {},
   "outputs": [
    {
     "data": {
      "text/plain": [
       "dtype('float16')"
      ]
     },
     "execution_count": 20,
     "metadata": {},
     "output_type": "execute_result"
    }
   ],
   "source": [
    "bit16 = read_block(basedir, dtype=np.float16)\n",
    "bit16.data.dtype"
   ]
  },
  {
   "cell_type": "markdown",
   "metadata": {},
   "source": [
    "## Dealing with bad data\n",
    "\n",
    "Sometimes there are problems during an acquisition that results in bad data values in one or more channels of electrode data, or during brief time segments across all channels. In the course of preprocessing, these problem channels and segments are recorded in the block's 'Artifacts' directory in the 'badChannels.txt' and 'badTimeSegments.mat' files.\n",
    "\n",
    "By default, `read_block()` loads the information in these files and replaces the bad data values with `np.nan`. All of the ECBlock objects we have created so far contain `np.nan` replacement values."
   ]
  },
  {
   "cell_type": "code",
   "execution_count": 21,
   "metadata": {},
   "outputs": [
    {
     "data": {
      "text/plain": [
       "True"
      ]
     },
     "execution_count": 21,
     "metadata": {},
     "output_type": "execute_result"
    }
   ],
   "source": [
    "np.isnan(ds.data).any()"
   ]
  },
  {
   "cell_type": "markdown",
   "metadata": {},
   "source": [
    "The bad channel indexes are stored as a list of integers in the `badchan` attribute. (If you look at the 'badChannels.txt' file you will notice that the numbers don't match the indexes in `badchan`. This is because the text file numbers channels starting with 1, and numpy indexes start with 0, so the values in `badchan` are one less than the channel numbers in the file.)"
   ]
  },
  {
   "cell_type": "code",
   "execution_count": 22,
   "metadata": {},
   "outputs": [
    {
     "data": {
      "text/plain": [
       "[255, 112, 113, 114, 115, 123, 127]"
      ]
     },
     "execution_count": 22,
     "metadata": {},
     "output_type": "execute_result"
    }
   ],
   "source": [
    "ds.badchan"
   ]
  },
  {
   "cell_type": "code",
   "execution_count": 23,
   "metadata": {},
   "outputs": [
    {
     "data": {
      "text/plain": [
       "True"
      ]
     },
     "execution_count": 23,
     "metadata": {},
     "output_type": "execute_result"
    }
   ],
   "source": [
    "np.isnan(ds.data[112]).all()"
   ]
  },
  {
   "cell_type": "markdown",
   "metadata": {},
   "source": [
    "The bad segments are stored as a Pandas dataframe in the `badsegs` attribute. Each row corresponds to a bad segment with a time that starts at `t1` and ends at `t2`."
   ]
  },
  {
   "cell_type": "code",
   "execution_count": 24,
   "metadata": {},
   "outputs": [
    {
     "data": {
      "text/html": [
       "<div>\n",
       "<style scoped>\n",
       "    .dataframe tbody tr th:only-of-type {\n",
       "        vertical-align: middle;\n",
       "    }\n",
       "\n",
       "    .dataframe tbody tr th {\n",
       "        vertical-align: top;\n",
       "    }\n",
       "\n",
       "    .dataframe thead th {\n",
       "        text-align: right;\n",
       "    }\n",
       "</style>\n",
       "<table border=\"1\" class=\"dataframe\">\n",
       "  <thead>\n",
       "    <tr style=\"text-align: right;\">\n",
       "      <th></th>\n",
       "      <th>t1</th>\n",
       "      <th>t2</th>\n",
       "    </tr>\n",
       "  </thead>\n",
       "  <tbody>\n",
       "    <tr>\n",
       "      <th>0</th>\n",
       "      <td>3.900000</td>\n",
       "      <td>4.400000</td>\n",
       "    </tr>\n",
       "    <tr>\n",
       "      <th>1</th>\n",
       "      <td>686.206406</td>\n",
       "      <td>686.699058</td>\n",
       "    </tr>\n",
       "    <tr>\n",
       "      <th>2</th>\n",
       "      <td>688.861252</td>\n",
       "      <td>690.736066</td>\n",
       "    </tr>\n",
       "    <tr>\n",
       "      <th>3</th>\n",
       "      <td>697.605822</td>\n",
       "      <td>698.002681</td>\n",
       "    </tr>\n",
       "  </tbody>\n",
       "</table>\n",
       "</div>"
      ],
      "text/plain": [
       "           t1          t2\n",
       "0    3.900000    4.400000\n",
       "1  686.206406  686.699058\n",
       "2  688.861252  690.736066\n",
       "3  697.605822  698.002681"
      ]
     },
     "execution_count": 24,
     "metadata": {},
     "output_type": "execute_result"
    }
   ],
   "source": [
    "ds.badsegs"
   ]
  },
  {
   "cell_type": "markdown",
   "metadata": {},
   "source": [
    "Additional attributes related to bad time segments are `badidx`, which provides index values along the time axis where bad sample values exist, and the complementary `badmask` and `goodmask` boolean indexes that can be used to select bad or good values from the time axis."
   ]
  },
  {
   "cell_type": "code",
   "execution_count": 25,
   "metadata": {},
   "outputs": [
    {
     "name": "stdout",
     "output_type": "stream",
     "text": [
      "[  1560   1561   1562 ..., 279198 279199 279200]\n",
      "1305\n",
      "[False False False ..., False False False]\n",
      "1305\n",
      "[ True  True  True ...,  True  True  True]\n"
     ]
    }
   ],
   "source": [
    "print(ds.badidx)\n",
    "print(len(ds.badidx))\n",
    "print(ds.badmask)\n",
    "print(ds.badmask.sum())    # should be the same as len(ds.badidx)\n",
    "print(ds.goodmask)"
   ]
  },
  {
   "cell_type": "markdown",
   "metadata": {},
   "source": [
    "The following plot contains only 'good' data values."
   ]
  },
  {
   "cell_type": "code",
   "execution_count": 26,
   "metadata": {},
   "outputs": [
    {
     "data": {
      "text/plain": [
       "[<matplotlib.lines.Line2D at 0x1e4192208>]"
      ]
     },
     "execution_count": 26,
     "metadata": {},
     "output_type": "execute_result"
    },
    {
     "data": {
      "image/png": "[encoded data removed]",
      "text/plain": [
       "<matplotlib.figure.Figure at 0x12fd39080>"
      ]
     },
     "metadata": {},
     "output_type": "display_data"
    }
   ],
   "source": [
    "plt.plot(ds.ts[ds.goodmask], ds.data[0,ds.goodmask])"
   ]
  },
  {
   "cell_type": "markdown",
   "metadata": {},
   "source": [
    "### The `replace` parameter\n",
    "\n",
    "To turn off the default bad data behavior, include `replace=False` in the call to `read_block()`. The data in the ECBlock will have no replacements."
   ]
  },
  {
   "cell_type": "code",
   "execution_count": 27,
   "metadata": {},
   "outputs": [
    {
     "data": {
      "text/plain": [
       "False"
      ]
     },
     "execution_count": 27,
     "metadata": {},
     "output_type": "execute_result"
    }
   ],
   "source": [
    "nonan = read_block(basedir, replace=False)\n",
    "np.isnan(nonan.data).any()"
   ]
  },
  {
   "cell_type": "markdown",
   "metadata": {},
   "source": [
    "Note that the `badchan` and `badsegs` attributes are populated even when `replace` is False."
   ]
  },
  {
   "cell_type": "code",
   "execution_count": 28,
   "metadata": {},
   "outputs": [
    {
     "name": "stdout",
     "output_type": "stream",
     "text": [
      "[255, 112, 113, 114, 115, 123, 127]\n",
      "           t1          t2\n",
      "0    3.900000    4.400000\n",
      "1  686.206406  686.699058\n",
      "2  688.861252  690.736066\n",
      "3  697.605822  698.002681\n"
     ]
    }
   ],
   "source": [
    "print(nonan.badchan)\n",
    "print(nonan.badsegs)"
   ]
  },
  {
   "cell_type": "markdown",
   "metadata": {},
   "source": [
    "The `badidx`, `badmask`, and `goodmask` attribute are also defined."
   ]
  },
  {
   "cell_type": "code",
   "execution_count": 29,
   "metadata": {},
   "outputs": [
    {
     "name": "stdout",
     "output_type": "stream",
     "text": [
      "[  1560   1561   1562 ..., 279198 279199 279200]\n",
      "1305\n",
      "[False False False ..., False False False]\n",
      "1305\n",
      "[ True  True  True ...,  True  True  True]\n"
     ]
    }
   ],
   "source": [
    "print(nonan.badidx)\n",
    "print(len(nonan.badidx))\n",
    "print(nonan.badmask)\n",
    "print(nonan.badmask.sum())    # should be the same as len(ds.badidx)\n",
    "print(nonan.goodmask)"
   ]
  },
  {
   "cell_type": "markdown",
   "metadata": {},
   "source": [
    "### The `artifact_dir` parameter\n",
    "\n",
    "By default, `read_block()` looks in the 'Artifacts' subdirectory for the files that contain bad value information. Use the `artifact_dir` parameter to name a different subdirectory for these files.\n",
    "\n",
    "### The `badchan` parameter\n",
    "\n",
    "Use the `badchan` parameter to name the file containing bad channel information if it is not the default `badChannels.txt`.\n",
    "\n",
    "### The `badsegs` parameter\n",
    "\n",
    "Use the `badsegs` parameter to name the file with bad segment information if it is not the default `badTimeSegments.mat`. If the file you name is a `.lab` file, e.g. `bad_time_segments.lab`, then `read_block()` will parse it as a text file rather than a Matlab binary file."
   ]
  }
 ],
 "metadata": {
  "kernelspec": {
   "display_name": "Python 3",
   "language": "python",
   "name": "python3"
  },
  "language_info": {
   "codemirror_mode": {
    "name": "ipython",
    "version": 3
   },
   "file_extension": ".py",
   "mimetype": "text/x-python",
   "name": "python",
   "nbconvert_exporter": "python",
   "pygments_lexer": "ipython3",
   "version": "3.6.3"
  }
 },
 "nbformat": 4,
 "nbformat_minor": 2
}
